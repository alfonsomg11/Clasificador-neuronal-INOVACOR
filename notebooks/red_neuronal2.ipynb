{
 "cells": [
  {
   "cell_type": "code",
   "execution_count": 33,
   "metadata": {},
   "outputs": [],
   "source": [
    "import pandas as pd\n",
    "import seaborn as sn\n",
    "import numpy as np\n",
    "from keras import models\n",
    "from keras import layers\n",
    "from keras.utils import to_categorical\n",
    "\n",
    "cardboard_f = pd.read_excel(\"cardboard.xlsx\", header=None)\n",
    "cardboard_f = cardboard_f.to_numpy()"
   ]
  },
  {
   "cell_type": "code",
   "execution_count": 34,
   "metadata": {},
   "outputs": [],
   "source": [
    "np.random.shuffle(cardboard_f)"
   ]
  },
  {
   "cell_type": "code",
   "execution_count": 35,
   "metadata": {},
   "outputs": [
    {
     "data": {
      "text/plain": [
       "array([[2.34e+02, 3.23e-01, 2.80e+01, ..., 2.90e+00, 2.90e+01, 1.00e+00],\n",
       "       [3.47e+02, 3.45e-01, 3.33e+01, ..., 3.20e+00, 1.90e+01, 0.00e+00],\n",
       "       [2.74e+02, 3.28e-01, 3.04e+01, ..., 3.22e+00, 1.60e+01, 1.00e+00],\n",
       "       ...,\n",
       "       [3.57e+02, 3.22e-01, 3.31e+01, ..., 3.36e+00, 1.30e+01, 1.00e+00],\n",
       "       [3.63e+02, 3.40e-01, 3.44e+01, ..., 3.20e+00, 2.00e+01, 0.00e+00],\n",
       "       [2.95e+02, 3.57e-01, 3.02e+01, ..., 2.90e+00, 1.50e+01, 1.00e+00]])"
      ]
     },
     "execution_count": 35,
     "metadata": {},
     "output_type": "execute_result"
    }
   ],
   "source": [
    "cardboard_f"
   ]
  },
  {
   "cell_type": "code",
   "execution_count": 36,
   "metadata": {},
   "outputs": [
    {
     "data": {
      "text/plain": [
       "(1800, 11)"
      ]
     },
     "execution_count": 36,
     "metadata": {},
     "output_type": "execute_result"
    }
   ],
   "source": [
    "cardboard_f.shape"
   ]
  },
  {
   "cell_type": "code",
   "execution_count": 37,
   "metadata": {},
   "outputs": [],
   "source": [
    "cardboard_f_train = cardboard_f[:900,:10]\n",
    "cardboard_f_test = cardboard_f[900:,:10]\n",
    "\n",
    "train_labels = cardboard_f[:900,10]\n",
    "test_labels = cardboard_f[900:,10]"
   ]
  },
  {
   "cell_type": "code",
   "execution_count": 38,
   "metadata": {},
   "outputs": [],
   "source": [
    "len(train_labels)\n",
    "train_labels = train_labels.astype(int)"
   ]
  },
  {
   "cell_type": "code",
   "execution_count": 39,
   "metadata": {},
   "outputs": [],
   "source": [
    "len(test_labels)\n",
    "test_labels = test_labels.astype(int)"
   ]
  },
  {
   "cell_type": "code",
   "execution_count": 40,
   "metadata": {},
   "outputs": [
    {
     "data": {
      "text/plain": [
       "(900, 2)"
      ]
     },
     "execution_count": 40,
     "metadata": {},
     "output_type": "execute_result"
    }
   ],
   "source": [
    "train_labels = to_categorical(train_labels)\n",
    "train_labels.shape"
   ]
  },
  {
   "cell_type": "code",
   "execution_count": 41,
   "metadata": {},
   "outputs": [],
   "source": [
    "network = models.Sequential()\n",
    "network.add(layers.Dense(90, activation='relu', input_shape=(10,)))\n",
    "network.add(layers.Dense(60, activation='relu', input_shape=(10,)))\n",
    "network.add(layers.Dense(2, activation='softmax'))"
   ]
  },
  {
   "cell_type": "code",
   "execution_count": 42,
   "metadata": {},
   "outputs": [],
   "source": [
    "network.compile(optimizer='rmsprop',\n",
    "                loss='categorical_crossentropy',\n",
    "                metrics=['accuracy'])"
   ]
  },
  {
   "cell_type": "code",
   "execution_count": 43,
   "metadata": {},
   "outputs": [],
   "source": [
    "x_val = cardboard_f_train[:450]\n",
    "partial_x_train = cardboard_f_train[450:]\n",
    "\n",
    "y_val = train_labels[:450]\n",
    "partial_y_train = train_labels[450:]"
   ]
  },
  {
   "cell_type": "code",
   "execution_count": 44,
   "metadata": {},
   "outputs": [],
   "source": [
    "history = network.fit(partial_x_train,\n",
    "                    partial_y_train,\n",
    "                    epochs=500,\n",
    "                    batch_size=128,\n",
    "                    validation_data=(x_val, y_val),\n",
    "                    verbose=0)"
   ]
  },
  {
   "cell_type": "code",
   "execution_count": 45,
   "metadata": {},
   "outputs": [
    {
     "data": {
      "text/plain": [
       "dict_keys(['loss', 'accuracy', 'val_loss', 'val_accuracy'])"
      ]
     },
     "execution_count": 45,
     "metadata": {},
     "output_type": "execute_result"
    }
   ],
   "source": [
    "history_dict = history.history\n",
    "history_dict.keys()"
   ]
  },
  {
   "cell_type": "code",
   "execution_count": 46,
   "metadata": {},
   "outputs": [
    {
     "data": {
      "image/png": "[encoded data removed]",
      "text/plain": [
       "<Figure size 432x288 with 1 Axes>"
      ]
     },
     "metadata": {
      "needs_background": "light"
     },
     "output_type": "display_data"
    }
   ],
   "source": [
    "import matplotlib.pyplot as plt\n",
    "\n",
    "acc = history.history['accuracy']\n",
    "val_acc = history.history['val_accuracy']\n",
    "loss = history.history['loss']\n",
    "val_loss = history.history['val_loss']\n",
    "\n",
    "epochs = range(1, len(acc) + 1)\n",
    "\n",
    "plt.plot(epochs, loss, 'bo', label='Training loss')\n",
    "plt.plot(epochs, val_loss, 'r', label='Validation loss')\n",
    "plt.title('Training and validation loss')\n",
    "plt.xlabel('Epochs')\n",
    "plt.ylabel('Loss')\n",
    "plt.legend()\n",
    "\n",
    "plt.show()"
   ]
  },
  {
   "cell_type": "code",
   "execution_count": 47,
   "metadata": {},
   "outputs": [
    {
     "data": {
      "image/png": "[encoded data removed]",
      "text/plain": [
       "<Figure size 432x288 with 1 Axes>"
      ]
     },
     "metadata": {
      "needs_background": "light"
     },
     "output_type": "display_data"
    }
   ],
   "source": [
    "epochs = range(1, len(acc) + 1)\n",
    "\n",
    "plt.plot(epochs, acc, 'bo', label='Training accuracy')\n",
    "plt.plot(epochs, val_acc, 'r', label='Validation accuracy')\n",
    "plt.title('Training and validation accuracy')\n",
    "plt.xlabel('Epochs')\n",
    "plt.ylabel('Loss')\n",
    "plt.legend()\n",
    "\n",
    "plt.show()"
   ]
  },
  {
   "cell_type": "code",
   "execution_count": 48,
   "metadata": {},
   "outputs": [],
   "source": [
    "prediction_vector=network.predict(cardboard_f_test)\n",
    "prediction_dataFrame=pd.DataFrame(prediction_vector)"
   ]
  },
  {
   "cell_type": "code",
   "execution_count": 49,
   "metadata": {},
   "outputs": [
    {
     "name": "stdout",
     "output_type": "stream",
     "text": [
      "-------------------------------------------------------------------\n",
      "Hay un total de 900 láminas de cartón.\n",
      "Se estima que hay 455 láminas del tipo A y 445 láminas del tipo B.\n",
      "-------------------------------------------------------------------\n",
      "\n",
      "-------------------------------------------------------------------\n",
      "Se tuvo un total de 744 aciertos y 156 no aciertos.\n",
      "La eficacia de la red neuronal para los datos TEST es de 82.67%\n",
      "-------------------------------------------------------------------\n"
     ]
    }
   ],
   "source": [
    "type_zero_count = 0\n",
    "type_one_count = 0\n",
    "\n",
    "guesses = np.ones(len(prediction_vector))\n",
    "\n",
    "for j in range (len(prediction_vector)):\n",
    "    if prediction_vector[j,0] > prediction_vector[j,1]:\n",
    "        type_zero_count += 1\n",
    "        guesses[j] = 0\n",
    "    else:\n",
    "        type_one_count += 1\n",
    "        guesses[j] = 1\n",
    "        \n",
    "print(\"-------------------------------------------------------------------\")\n",
    "print(\"Hay un total de {} láminas de cartón.\".format(len(prediction_vector)))\n",
    "print(\"Se estima que hay {} láminas del tipo A y {} láminas del tipo B.\".format(type_zero_count,type_one_count))\n",
    "print(\"-------------------------------------------------------------------\")\n",
    "\n",
    "hits = 0\n",
    "for j in range (len(guesses)):    \n",
    "    if guesses[j] == test_labels[j]:\n",
    "        hits += 1\n",
    "        \n",
    "efficiency = round(hits/len(guesses)*100,2)\n",
    "non_hits = len(guesses) - hits\n",
    "\n",
    "print(\"\\n-------------------------------------------------------------------\")\n",
    "print(\"Se tuvo un total de {} aciertos y {} no aciertos.\".format(hits,non_hits))\n",
    "print(\"La eficacia de la red neuronal para los datos TEST es de {}%\".format(efficiency))\n",
    "print(\"-------------------------------------------------------------------\")"
   ]
  },
  {
   "cell_type": "code",
   "execution_count": 50,
   "metadata": {},
   "outputs": [
    {
     "name": "stdout",
     "output_type": "stream",
     "text": [
      "El máximo valor de validation accuracy fue de: 83.11%\n",
      "En la iteración número [491]\n"
     ]
    }
   ],
   "source": [
    "validation_accuracy_values=np.zeros(len(prediction_vector))\n",
    "c=0;\n",
    "for i in history_dict['val_accuracy']:\n",
    "    if c < len(prediction_vector):\n",
    "        validation_accuracy_values[c] = i\n",
    "        c+=1\n",
    "val_acc_max = np.amax(validation_accuracy_values)\n",
    "index = np.where(validation_accuracy_values == val_acc_max)\n",
    "\n",
    "print(\"El máximo valor de validation accuracy fue de: {:.2f}%\".format(val_acc_max*100))\n",
    "print(\"En la iteración número {}\".format(index[0]+1))"
   ]
  }
 ],
 "metadata": {
  "kernelspec": {
   "display_name": "Python 3",
   "language": "python",
   "name": "python3"
  },
  "language_info": {
   "codemirror_mode": {
    "name": "ipython",
    "version": 3
   },
   "file_extension": ".py",
   "mimetype": "text/x-python",
   "name": "python",
   "nbconvert_exporter": "python",
   "pygments_lexer": "ipython3",
   "version": "3.8.3"
  }
 },
 "nbformat": 4,
 "nbformat_minor": 4
}
