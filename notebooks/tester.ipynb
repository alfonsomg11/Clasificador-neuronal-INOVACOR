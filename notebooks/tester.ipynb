{
 "cells": [
  {
   "cell_type": "code",
   "execution_count": 1,
   "metadata": {},
   "outputs": [
    {
     "name": "stdout",
     "output_type": "stream",
     "text": [
      "Loaded model from disk\n",
      "-------------------------------------------------------------------\n",
      "Hay un total de 900 láminas de cartón.\n",
      "Se estima que hay 479 láminas del tipo A y 421 láminas del tipo B.\n",
      "-------------------------------------------------------------------\n",
      "\n",
      "-------------------------------------------------------------------\n",
      "Se tuvo un total de 840 aciertos y 60 no aciertos.\n",
      "La eficacia de la red neuronal para los datos TEST es de 93.33%\n",
      "-------------------------------------------------------------------\n"
     ]
    }
   ],
   "source": [
    "import pandas as pd\n",
    "import numpy as np\n",
    "from keras import models\n",
    "from keras import layers\n",
    "from keras.utils import to_categorical\n",
    "\n",
    "cardboard_f = pd.read_excel(\"cardboard.xlsx\", header=None)\n",
    "cardboard_f = cardboard_f.to_numpy()\n",
    "\n",
    "np.random.shuffle(cardboard_f)\n",
    "\n",
    "cardboard_f_test = cardboard_f[900:,:10]\n",
    "test_labels = cardboard_f[900:,10]\n",
    "\n",
    "json_file = open('model.json', 'r')\n",
    "loaded_model_json = json_file.read()\n",
    "json_file.close()\n",
    "loaded_model = models.model_from_json(loaded_model_json)\n",
    "loaded_model.load_weights(\"model.h5\")\n",
    "print(\"Loaded model from disk\")\n",
    "\n",
    "loaded_model.compile(optimizer='rmsprop',\n",
    "                loss='categorical_crossentropy',\n",
    "                metrics=['accuracy'])\n",
    "\n",
    "prediction_vector = loaded_model.predict(cardboard_f_test)\n",
    "\n",
    "\n",
    "type_zero_count = 0\n",
    "type_one_count = 0\n",
    "\n",
    "guesses = np.ones(len(prediction_vector))\n",
    "\n",
    "for j in range (len(prediction_vector)):\n",
    "    if prediction_vector[j,0] > prediction_vector[j,1]:\n",
    "        type_zero_count += 1\n",
    "        guesses[j] = 0\n",
    "    else:\n",
    "        type_one_count += 1\n",
    "        guesses[j] = 1\n",
    "        \n",
    "print(\"-------------------------------------------------------------------\")\n",
    "print(\"Hay un total de {} láminas de cartón.\".format(len(prediction_vector)))\n",
    "print(\"Se estima que hay {} láminas del tipo A y {} láminas del tipo B.\".format(type_zero_count,type_one_count))\n",
    "print(\"-------------------------------------------------------------------\")\n",
    "\n",
    "hits = 0\n",
    "for j in range (len(guesses)):    \n",
    "    if guesses[j] == test_labels[j]:\n",
    "        hits += 1\n",
    "        \n",
    "efficiency = round(hits/len(guesses)*100,2)\n",
    "non_hits = len(guesses) - hits\n",
    "\n",
    "print(\"\\n-------------------------------------------------------------------\")\n",
    "print(\"Se tuvo un total de {} aciertos y {} no aciertos.\".format(hits,non_hits))\n",
    "print(\"La eficacia de la red neuronal para los datos TEST es de {}%\".format(efficiency))\n",
    "print(\"-------------------------------------------------------------------\")"
   ]
  },
  {
   "cell_type": "code",
   "execution_count": null,
   "metadata": {},
   "outputs": [],
   "source": []
  }
 ],
 "metadata": {
  "kernelspec": {
   "display_name": "Python 3",
   "language": "python",
   "name": "python3"
  },
  "language_info": {
   "codemirror_mode": {
    "name": "ipython",
    "version": 3
   },
   "file_extension": ".py",
   "mimetype": "text/x-python",
   "name": "python",
   "nbconvert_exporter": "python",
   "pygments_lexer": "ipython3",
   "version": "3.8.3"
  }
 },
 "nbformat": 4,
 "nbformat_minor": 4
}
